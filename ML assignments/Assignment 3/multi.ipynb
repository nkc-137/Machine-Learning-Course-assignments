{
 "cells": [
  {
   "cell_type": "code",
   "execution_count": 1,
   "metadata": {
    "collapsed": true
   },
   "outputs": [],
   "source": [
    "import tensorflow as tf\n",
    "import numpy as np\n",
    "import pandas as pd"
   ]
  },
  {
   "cell_type": "code",
   "execution_count": 3,
   "metadata": {},
   "outputs": [
    {
     "name": "stderr",
     "output_type": "stream",
     "text": [
      "/home/kapil/anaconda3/lib/python3.6/site-packages/pandas/core/indexing.py:179: SettingWithCopyWarning: \n",
      "A value is trying to be set on a copy of a slice from a DataFrame\n",
      "\n",
      "See the caveats in the documentation: http://pandas.pydata.org/pandas-docs/stable/indexing.html#indexing-view-versus-copy\n",
      "  self._setitem_with_indexer(indexer, value)\n"
     ]
    }
   ],
   "source": [
    "data = pd.read_csv('30_train_features.csv')\n",
    "for i in data.index:\n",
    "    if data['OS'].iloc[i] <= 300:\n",
    "        data['OS'].iloc[i] = 0\n",
    "    elif data['OS'].iloc[i] <= 450 and data['OS'].iloc[i]>300:\n",
    "        data['OS'].iloc[i] = 1\n",
    "    else:\n",
    "        data['OS'].iloc[i] = 2\n",
    "#     else:\n",
    "#         data['OS'].iloc[i] = 1"
   ]
  },
  {
   "cell_type": "code",
   "execution_count": 4,
   "metadata": {
    "collapsed": true
   },
   "outputs": [],
   "source": [
    "X_train = data.drop(['OS'],axis=1)\n",
    "y_train = data['OS']"
   ]
  },
  {
   "cell_type": "code",
   "execution_count": 5,
   "metadata": {},
   "outputs": [
    {
     "name": "stderr",
     "output_type": "stream",
     "text": [
      "/home/kapil/anaconda3/lib/python3.6/site-packages/pandas/core/indexing.py:179: SettingWithCopyWarning: \n",
      "A value is trying to be set on a copy of a slice from a DataFrame\n",
      "\n",
      "See the caveats in the documentation: http://pandas.pydata.org/pandas-docs/stable/indexing.html#indexing-view-versus-copy\n",
      "  self._setitem_with_indexer(indexer, value)\n"
     ]
    }
   ],
   "source": [
    "test_data = pd.read_csv('30_test_features.csv')\n",
    "for i in test_data.index:\n",
    "    if test_data['OS'].iloc[i] <= 300:\n",
    "        test_data['OS'].iloc[i] = 0\n",
    "    elif test_data['OS'].iloc[i] <= 450 and test_data['OS'].iloc[i]>300:\n",
    "        test_data['OS'].iloc[i] = 1\n",
    "    else:\n",
    "        test_data['OS'].iloc[i] = 2\n",
    "#     else:\n",
    "#         test_data['OS'].iloc[i] = 1"
   ]
  },
  {
   "cell_type": "code",
   "execution_count": 6,
   "metadata": {
    "collapsed": true
   },
   "outputs": [],
   "source": [
    "X_test = test_data.drop(['OS'],axis=1)\n",
    "y_test = test_data['OS']"
   ]
  },
  {
   "cell_type": "code",
   "execution_count": 7,
   "metadata": {},
   "outputs": [
    {
     "name": "stdout",
     "output_type": "stream",
     "text": [
      "(33, 30) (33,)\n"
     ]
    }
   ],
   "source": [
    "print(X_test.shape,y_test.shape)"
   ]
  },
  {
   "cell_type": "code",
   "execution_count": 8,
   "metadata": {
    "collapsed": true
   },
   "outputs": [],
   "source": [
    "num_labels = 3\n",
    "one_hot_test = (np.arange(num_labels) == np.array(y_test)[:,None]).astype(np.float32)"
   ]
  },
  {
   "cell_type": "code",
   "execution_count": 9,
   "metadata": {
    "collapsed": true
   },
   "outputs": [],
   "source": [
    "def accuracy(predictions, labels):\n",
    "    return (100.0 * np.sum(np.argmax(predictions, 1) == np.argmax(labels, 1))/ predictions.shape[0])"
   ]
  },
  {
   "cell_type": "code",
   "execution_count": 10,
   "metadata": {
    "collapsed": true
   },
   "outputs": [],
   "source": [
    "num_labels = 3\n",
    "one_hot_y = (np.arange(num_labels) == np.array(y_train)[:,None]).astype(np.float32)"
   ]
  },
  {
   "cell_type": "code",
   "execution_count": 11,
   "metadata": {
    "collapsed": true
   },
   "outputs": [],
   "source": [
    "X_train = X_train.as_matrix()"
   ]
  },
  {
   "cell_type": "code",
   "execution_count": 12,
   "metadata": {
    "collapsed": true
   },
   "outputs": [],
   "source": [
    "from sklearn import preprocessing\n",
    "X_train = preprocessing.scale(X_train)\n",
    "X_test = preprocessing.scale(X_test)"
   ]
  },
  {
   "cell_type": "code",
   "execution_count": 19,
   "metadata": {},
   "outputs": [],
   "source": [
    "# tf.set_random_seed(3)\n",
    "beta = 0.01\n",
    "feature_size = X_train.shape[1]\n",
    "\n",
    "# tf_train = tf.placeholder(tf.float64,shape=(98,feature_size))\n",
    "# tf_label = tf.placeholder(tf.float64,shape=(98,num_labels))\n",
    "tf_train = tf.constant(X_train)\n",
    "tf_label = tf.constant(one_hot_y)\n",
    "\n",
    "tf_test = tf.constant(X_test)\n",
    "tf_test_label = tf.constant(one_hot_test)\n",
    "\n",
    "W = tf.Variable(tf.random_normal(shape=(feature_size,num_labels),dtype=tf.float64,seed=0))\n",
    "b = tf.Variable(tf.zeros(shape=(num_labels),dtype=tf.float64))\n",
    "\n",
    "z = tf.matmul(tf_train,W) + b\n",
    "yhat = tf.sigmoid(z)\n",
    "\n",
    "loss = tf.reduce_mean(tf.nn.softmax_cross_entropy_with_logits_v2(logits=yhat,labels=tf_label))\n",
    "# regularizer = tf.nn.l2_loss(W)\n",
    "# loss = tf.reduce_mean(loss + beta*regularizer)\n",
    "\n",
    "optimizer = tf.train.AdagradOptimizer(0.1).minimize(loss)\n",
    "\n",
    "test_pred = tf.nn.softmax(tf.matmul(tf_test,W) + b)\n",
    "prediction = tf.nn.softmax(z)"
   ]
  },
  {
   "cell_type": "code",
   "execution_count": 20,
   "metadata": {},
   "outputs": [
    {
     "name": "stdout",
     "output_type": "stream",
     "text": [
      "Accuracy =  30.612244898\n",
      "Accuracy =  56.1224489796\n",
      "Accuracy =  58.1632653061\n",
      "Accuracy =  61.2244897959\n",
      "Accuracy =  62.2448979592\n",
      "Test Accuracy =  42.4242424242\n"
     ]
    }
   ],
   "source": [
    "epochs = 5000\n",
    "costs = []\n",
    "test_losses = []\n",
    "\n",
    "with tf.Session() as sess:\n",
    "#     tf.set_random_seed(3)\n",
    "    sess.run(tf.global_variables_initializer())\n",
    "    \n",
    "    for i in range(epochs):\n",
    "        sess.run(optimizer)\n",
    "        \n",
    "        cost = sess.run(loss)\n",
    "        costs.append(cost)\n",
    "        \n",
    "        pred = sess.run(prediction) \n",
    "        \n",
    "        if (i%1000 == 0):\n",
    "            print('Accuracy = ',accuracy(pred,one_hot_y))\n",
    "         #   print(\"Iteration:\", '%04d' % (i + 1), \"cost=\", \"{:.9f}\".format(cost))\n",
    "    test_prediction = sess.run(test_pred)\n",
    "    print('Test Accuracy = ', accuracy(test_prediction,one_hot_test))\n",
    "         "
   ]
  },
  {
   "cell_type": "code",
   "execution_count": 21,
   "metadata": {},
   "outputs": [
    {
     "data": {
      "image/png": "[encoded data removed]",
      "text/plain": [
       "<matplotlib.figure.Figure at 0x7fc85377d0b8>"
      ]
     },
     "metadata": {},
     "output_type": "display_data"
    }
   ],
   "source": [
    "import matplotlib.pyplot as plt\n",
    "plt.plot(costs)\n",
    "plt.show()"
   ]
  },
  {
   "cell_type": "code",
   "execution_count": 17,
   "metadata": {
    "collapsed": true
   },
   "outputs": [],
   "source": [
    "final_labels = np.argmax(test_prediction,1)"
   ]
  },
  {
   "cell_type": "code",
   "execution_count": 18,
   "metadata": {},
   "outputs": [
    {
     "name": "stdout",
     "output_type": "stream",
     "text": [
      "[0 2 1 0 2 0 2 0 0 0 0 0 0 2 0 1 2 1 2 2 2 1 2 0 2 1 1 0 2 2 2 0 1]\n",
      "[0 0 0 0 0 0 0 0 0 0 0 0 0 0 1 1 1 1 1 1 1 1 1 1 2 2 2 2 2 2 2 2 2]\n"
     ]
    }
   ],
   "source": [
    "print(final_labels)\n",
    "print(np.array((y_test)))"
   ]
  },
  {
   "cell_type": "markdown",
   "metadata": {},
   "source": [
    "## For class 0"
   ]
  },
  {
   "cell_type": "code",
   "execution_count": 126,
   "metadata": {},
   "outputs": [
    {
     "name": "stdout",
     "output_type": "stream",
     "text": [
      "33\n",
      "Sensitivity =  0.6428571428571429\n",
      "Specificity =  0.7894736842105263\n"
     ]
    }
   ],
   "source": [
    "TP = 0\n",
    "TN = 0\n",
    "FP = 0\n",
    "FN = 0\n",
    "for i in range(len(y_test)):\n",
    "    if (y_test[i] == 0):\n",
    "        if (final_labels[i] == 0):\n",
    "            TP += 1\n",
    "        else:\n",
    "            FN += 1\n",
    "    else:\n",
    "        if (final_labels[i] == 0):\n",
    "            FP += 1\n",
    "        else:\n",
    "            TN += 1\n",
    "print(TP + TN + FP + FN)\n",
    "sensitivity = TP/(TP + FN)\n",
    "specificity = TN/(TN + FP)\n",
    "print('Sensitivity = ',sensitivity)\n",
    "print('Specificity = ',specificity)"
   ]
  },
  {
   "cell_type": "markdown",
   "metadata": {},
   "source": [
    "## For class 1"
   ]
  },
  {
   "cell_type": "code",
   "execution_count": 127,
   "metadata": {},
   "outputs": [
    {
     "name": "stdout",
     "output_type": "stream",
     "text": [
      "33\n",
      "Sensitivity =  0.5\n",
      "Specificity =  0.8260869565217391\n"
     ]
    }
   ],
   "source": [
    "TP = 0\n",
    "TN = 0\n",
    "FP = 0\n",
    "FN = 0\n",
    "for i in range(len(y_test)):\n",
    "    if (y_test[i] == 1):\n",
    "        if (final_labels[i] == 1):\n",
    "            TP += 1\n",
    "        else:\n",
    "            FN += 1\n",
    "    else:\n",
    "        if (final_labels[i] == 1):\n",
    "            FP += 1\n",
    "        else:\n",
    "            TN += 1\n",
    "print(TP + TN + FP + FN)\n",
    "sensitivity = TP/(TP + FN)\n",
    "specificity = TN/(TN + FP)\n",
    "print('Sensitivity = ',sensitivity)\n",
    "print('Specificity = ',specificity)"
   ]
  },
  {
   "cell_type": "markdown",
   "metadata": {},
   "source": [
    "## For class 2"
   ]
  },
  {
   "cell_type": "code",
   "execution_count": 128,
   "metadata": {},
   "outputs": [
    {
     "name": "stdout",
     "output_type": "stream",
     "text": [
      "33\n",
      "Sensitivity =  0.5555555555555556\n",
      "Specificity =  0.75\n"
     ]
    }
   ],
   "source": [
    "TP = 0\n",
    "TN = 0\n",
    "FP = 0\n",
    "FN = 0\n",
    "for i in range(len(y_test)):\n",
    "    if (y_test[i] == 2):\n",
    "        if (final_labels[i] == 2):\n",
    "            TP += 1\n",
    "        else:\n",
    "            FN += 1\n",
    "    else:\n",
    "        if (final_labels[i] == 2):\n",
    "            FP += 1\n",
    "        else:\n",
    "            TN += 1\n",
    "print(TP + TN + FP + FN)\n",
    "sensitivity = TP/(TP + FN)\n",
    "specificity = TN/(TN + FP)\n",
    "print('Sensitivity = ',sensitivity)\n",
    "print('Specificity = ',specificity)"
   ]
  },
  {
   "cell_type": "code",
   "execution_count": 138,
   "metadata": {
    "collapsed": true
   },
   "outputs": [],
   "source": [
    "a = np.corrcoef(final_labels.astype(np.float32),y_test.astype(np.float32))\n",
    "# val = tf.contrib.metrics.streaming_pearson_correlation(final_labels.astype(np.float32),y_test.astype(np.float32))"
   ]
  },
  {
   "cell_type": "code",
   "execution_count": 139,
   "metadata": {},
   "outputs": [
    {
     "name": "stdout",
     "output_type": "stream",
     "text": [
      "[[ 1.          0.37737294]\n",
      " [ 0.37737294  1.        ]]\n"
     ]
    }
   ],
   "source": [
    "print(a)"
   ]
  },
  {
   "cell_type": "code",
   "execution_count": null,
   "metadata": {
    "collapsed": true
   },
   "outputs": [],
   "source": []
  }
 ],
 "metadata": {
  "kernelspec": {
   "display_name": "Python 3",
   "language": "python",
   "name": "python3"
  }
 },
 "nbformat": 4,
 "nbformat_minor": 2
}
